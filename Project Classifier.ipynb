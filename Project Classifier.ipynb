{
 "cells": [
  {
   "cell_type": "code",
   "execution_count": 2,
   "metadata": {},
   "outputs": [],
   "source": [
    "import tensorflow as tf\n",
    "import pandas as pd\n",
    "import numpy as np\n",
    "from tensorflow import keras\n",
    "from sklearn.preprocessing import Normalizer"
   ]
  },
  {
   "cell_type": "code",
   "execution_count": 26,
   "metadata": {},
   "outputs": [],
   "source": [
    "Test_data = pd.read_csv('Test_data.csv')\n",
    "Train_data = pd.read_csv('Train_data.csv')\n",
    "test_labels = pd.read_csv('test_labels.csv')\n",
    "train_labels = pd.read_csv('train_labels.csv')\n",
    "notimeTest = pd.read_csv('Test_data(notime).csv')\n",
    "notimeTrain = pd.read_csv('Train_data(notime).csv')"
   ]
  },
  {
   "cell_type": "code",
   "execution_count": 4,
   "metadata": {},
   "outputs": [],
   "source": [
    "X_test = Test_data.to_numpy()\n",
    "y_test = test_labels.to_numpy()\n",
    "X_train = Train_data.to_numpy()\n",
    "y_train = train_labels.to_numpy()"
   ]
  },
  {
   "cell_type": "code",
   "execution_count": 27,
   "metadata": {},
   "outputs": [],
   "source": [
    "W_train = notimeTrain.to_numpy()\n",
    "W_test = notimeTest.to_numpy()"
   ]
  },
  {
   "cell_type": "code",
   "execution_count": 5,
   "metadata": {},
   "outputs": [
    {
     "name": "stdout",
     "output_type": "stream",
     "text": [
      "<class 'str'>\n",
      "[ -81.01807404  -71.08252716  -81.6399765   -94.08540344  -96.98039246\n",
      "  -98.48887634  -99.27772522  -99.62394714 -101.0959015  -100.9665604\n",
      " -100.1676941  -100.3193359  -100.3069153  -100.2219772  -100.3307724\n",
      " -100.1293106   -99.71131134 -100.7615967   -99.69450378  -97.49021912\n",
      "  -91.26509857  -74.3879776   -70.0905304   -75.39611816  -91.93061829\n",
      "  -98.92947388 -100.7641678  -100.893898   -100.6237869   -99.46051025\n",
      "  -99.06095886  -99.0150528  -100.5545654  -101.1809998  -100.3728943\n",
      " -100.5561829  -100.1950226   -99.78546143  -96.94827271  -95.96032715\n",
      "  -97.73474121  -97.20859528  -86.34680939  -73.69029999  -69.54070282\n",
      "  -73.83390045  -88.66779327  -98.89603424  -98.61289978  -98.09715271\n",
      "  -97.96311188  -99.3531189   -99.43322754  -98.9239502  -100.4831696\n",
      "  -99.70696259  -99.41512299  -99.64663696  -98.79921722  -99.03227997\n",
      "  -99.23014832  -99.75299835  -99.59655762  -97.9836731   -91.23205566\n",
      "  -86.17730713  -81.47973633  -83.20243073  -92.65491486  -99.2351532\n",
      " -101.1274033   -99.98167419 -100.3932037  -100.3718567   -98.68273926\n",
      "  -99.40023804 -101.8583298  -100.7718811  -100.4096222   -99.89948273\n",
      " -101.5726089  -101.2350082  -100.946846   -101.2011566  -101.5882034\n",
      "  -98.08566284  -91.11075592  -88.80323792  -88.94607544  -91.66960144\n",
      "  -98.34631348 -102.2831345  -103.1466217  -102.7929077  -102.1360016\n",
      " -101.2786407  -101.4215927  -102.5561371  -103.8906097  -103.9064407\n",
      " -102.7964478  -102.7025299  -104.4009094  -105.0184479  -103.1500931\n",
      " -103.5855408  -103.0536575  -100.5369263   -99.08431244  -97.75798798\n",
      "  -96.99771881  -98.82585144 -101.2050781  -102.9867554  -104.5142517\n",
      " -105.1701202  -106.050293   -106.4883499  -105.8331223  -105.4531708\n",
      " -105.3437347  -105.3342361  -104.9362488  -103.1206436  -101.5560303\n",
      " -101.8108826  -103.1552582  -105.1191559  -108.5931473    23.        ]\n"
     ]
    }
   ],
   "source": [
    "print(type(y_train[0][0]))\n",
    "print(X_train[0])"
   ]
  },
  {
   "cell_type": "code",
   "execution_count": 6,
   "metadata": {},
   "outputs": [
    {
     "name": "stdout",
     "output_type": "stream",
     "text": [
      "[1, 1, 0, 1, 0, 0, 0, 1, 0, 0, 0, 1, 0, 1, 1, 1, 1, 0, 1, 0, 0, 1, 1, 1, 0, 1, 0, 0, 0, 1, 1, 1, 0, 0, 0, 1, 1, 0, 0, 0, 1, 0, 0, 1, 0, 0, 1, 0, 0, 1]\n"
     ]
    }
   ],
   "source": [
    "train_labs = []\n",
    "test_labs = []\n",
    "for entry in y_train:\n",
    "    if 'pipiens' in entry[0]:\n",
    "        train_labs.append(1)\n",
    "    else:\n",
    "        train_labs.append(0)\n",
    "\n",
    "for entry in y_test:\n",
    "    if 'pipiens' in entry[0]:\n",
    "        test_labs.append(1)\n",
    "    else:\n",
    "        test_labs.append(0)\n",
    "print(train_labs[0:50])"
   ]
  },
  {
   "cell_type": "code",
   "execution_count": 7,
   "metadata": {},
   "outputs": [],
   "source": [
    "y_train = np.array(train_labs)\n",
    "y_test = np.array(test_labs)"
   ]
  },
  {
   "cell_type": "code",
   "execution_count": 8,
   "metadata": {},
   "outputs": [
    {
     "name": "stdout",
     "output_type": "stream",
     "text": [
      "<class 'list'>\n"
     ]
    }
   ],
   "source": [
    "maxes = []\n",
    "mins = []\n",
    "for i in X_train[0]:\n",
    "    mins.append(i)\n",
    "    maxes.append(i)\n",
    "print(type(maxes))"
   ]
  },
  {
   "cell_type": "code",
   "execution_count": 9,
   "metadata": {},
   "outputs": [
    {
     "name": "stdout",
     "output_type": "stream",
     "text": [
      "[-55.8771286, -49.10046387, -52.13603973, -59.19604874, -68.67140961, -72.14685059, -76.29009247, -76.67727661, -76.52741241, -76.60408783, -76.06769562, -67.49700165, -65.176651, -65.22431946, -58.98898315, -56.3549118, -52.55590057, -52.63299561, -52.46525574, -53.9287529, -52.81363678, -52.87212372, -53.51438904, -55.22838211, -58.45119476, -59.67974854, -62.42589569, -64.45085144, -60.84291077, -56.32486725, -56.83432007, -55.39930344, -52.72486877, -51.00588989, -51.98651123, -52.94517517, -52.51686096, -52.50210571, -51.41345215, -52.79821396, -53.55949783, -52.35505676, -52.46509171, -50.60473633, -53.12499619, -53.79239655, -54.2977066, -55.344970700000005, -54.82911682, -58.09410095, -56.67582703, -60.13673401, -62.48164368, -62.34276199, -63.10333633, -61.030548100000004, -65.47265625, -63.6109314, -64.18074036, -63.56253815, -64.81278992, -63.45251465, -65.6371994, -65.95256805, -65.01574707, -63.88794327, -62.53103256, -67.03865814, -66.6182785, -67.06829071, -67.98173523, -68.258255, -69.12304688, -70.08390808, -68.64926147, -69.71054077, -67.1412735, -69.44960785, -70.99046326, -70.59319305, -71.50440979, -70.20592499, -72.6809082, -72.09321594, -71.28975677, -73.48090363, -72.72518921, -73.14321899, -74.80458069, -75.30558777, -76.17848206, -74.87648773, -75.56468964, -77.37334442, -77.81799316, -75.85297394, -74.69137573, -77.45008087, -77.90613556, -77.49821472, -78.19255066, -78.94178772, -77.84726715, -79.91738129, -79.73467255, -79.18637848, -77.48229218, -76.08743286, -78.89677429, -80.98562622, -82.25057983, -82.63365173, -79.45502472, -81.31256866, -81.16211700000001, -81.21463776, -82.32600403, -83.93273163, -83.63045502, -82.99990845, -85.44587708, -85.75031281, -84.9628067, -85.66829681, -86.5782547, -86.26521301, -86.95687103, -83.60744476, -84.12313843, 23.0]\n",
      "[-102.9866943, -95.60591888, -97.71963501, -100.53340909999999, -101.471489, -102.4788666, -103.036232, -103.40579220000001, -104.0073853, -104.1765137, -103.7339478, -104.0387802, -103.6042786, -103.5850143, -103.8178253, -103.47064209999999, -103.4423065, -103.1210022, -102.97258000000001, -102.8031006, -102.7187729, -103.318985, -104.2401962, -103.221756, -103.4980087, -103.67718509999999, -103.2968292, -104.0316925, -103.57276920000001, -103.59413909999999, -103.4459839, -103.82594300000001, -102.8920822, -102.8663635, -102.71781159999999, -103.2314377, -103.6156464, -102.4785004, -102.61460109999999, -102.3904877, -102.56791690000001, -102.2994537, -102.1578369, -102.0856552, -102.41722109999999, -102.2923889, -102.52983859999999, -102.5804214, -102.451004, -102.44315340000001, -102.5529327, -102.39295959999998, -102.4197769, -102.1235199, -102.1388855, -102.0220642, -102.6788635, -102.2640152, -102.4041901, -102.39625550000001, -102.2648315, -102.3909454, -102.7041245, -102.4169617, -102.800827, -102.8245468, -102.76596070000001, -103.46559140000001, -103.1865768, -103.30902859999999, -103.1639938, -103.2632828, -103.1554718, -103.54594420000001, -103.5578918, -103.93982700000001, -103.4678268, -104.0960312, -104.0310593, -103.9324875, -104.1263733, -104.2468262, -104.1351242, -104.8031158, -104.5764236, -104.7131805, -104.44142149999999, -104.90135190000001, -104.95024109999999, -105.1764679, -105.3649521, -105.3974915, -106.2758331, -105.5071564, -105.20405579999999, -105.95350649999999, -105.6886368, -105.98651890000001, -105.6310425, -105.98176570000001, -106.67812350000001, -105.82304380000001, -106.1295471, -107.16499329999999, -106.5777283, -107.537529, -106.61433410000001, -106.9347305, -106.97068020000002, -107.0323257, -107.8863907, -108.1323318, -107.86666869999999, -107.8971939, -107.91171259999999, -108.09103390000001, -107.9957428, -108.0350647, -108.3441467, -108.55866999999999, -108.6506195, -108.7031555, -109.28965759999998, -109.01332859999998, -109.3318558, -109.06159209999998, -109.05910490000001, -109.23676299999998, -113.4543686, 0.0]\n"
     ]
    }
   ],
   "source": [
    "size = len(X_train[0])\n",
    "\n",
    "\n",
    "for entry in X_train:\n",
    "    for i in range(size):\n",
    "        if entry[i] > maxes[i]:\n",
    "            maxes[i] = entry[i]\n",
    "        elif entry[i] < mins[i]:\n",
    "            mins[i] = entry[i]\n",
    "print(maxes)\n",
    "print(mins)"
   ]
  },
  {
   "cell_type": "code",
   "execution_count": 10,
   "metadata": {},
   "outputs": [
    {
     "name": "stdout",
     "output_type": "stream",
     "text": [
      "[47.1095657, 46.505455010000006, 45.583595280000004, 41.337360359999984, 32.80007939000001, 30.332016010000004, 26.746139529999994, 26.72851559, 27.47997289, 27.572425870000004, 27.66625218, 36.541778550000004, 38.427627599999994, 38.360694839999994, 44.82884214999999, 47.11573029999999, 50.88640593, 50.488006590000005, 50.507324260000004, 48.874347699999994, 49.90513612, 50.44686128, 50.72580716, 47.99337389, 45.04681394, 43.99743655999999, 40.87093351000001, 39.58084106000001, 42.72985843000001, 47.269271849999996, 46.611663830000005, 48.42663956000001, 50.167213430000004, 51.86047361000001, 50.73130036999999, 50.28626253, 51.09878544, 49.97639469, 51.20114894999999, 49.592273739999996, 49.008419070000016, 49.944396940000004, 49.692745190000004, 51.48091887, 49.292224909999995, 48.49999235000001, 48.23213199999999, 47.2354507, 47.621887179999995, 44.349052450000016, 45.87710567, 42.256225589999985, 39.938133220000005, 39.780757910000005, 39.03554917, 40.9915161, 37.206207250000006, 38.653083800000005, 38.22344973999999, 38.83371735000001, 37.45204158, 38.93843075000001, 37.066925100000006, 36.464393650000005, 37.785079929999995, 38.93660352999999, 40.23492814000001, 36.42693326000001, 36.568298299999995, 36.24073788999999, 35.18225857, 35.00502779999999, 34.03242492, 33.46203612000001, 34.908630329999994, 34.229286230000014, 36.3265533, 34.64642334999999, 33.04059604, 33.33929445, 32.62196351, 34.04090121, 31.454216000000002, 32.70989986000001, 33.28666683, 31.232276870000007, 31.716232289999994, 31.758132910000015, 30.14566040999999, 29.870880130000003, 29.186470040000003, 30.521003770000007, 30.711143460000002, 28.133811980000004, 27.38606263999999, 30.10053255999999, 30.997261069999993, 28.536438030000014, 27.72490694000001, 28.483550980000004, 28.485572840000017, 26.881256080000014, 28.282279950000003, 27.247612009999997, 26.843055750000005, 28.351150520000004, 29.132041920000006, 30.847297639999994, 28.073905910000022, 26.04669948, 25.63581087, 25.498680070000006, 28.411643979999994, 26.58462524000001, 26.749595599999978, 26.87639614000001, 25.66973877000001, 24.10233307, 24.713691679999997, 25.558761549999986, 23.204742420000002, 22.952842689999997, 24.326850899999982, 23.34503178999998, 22.753601099999997, 22.796379089999988, 22.102233870000006, 25.629318239999975, 29.331230169999998, 23.0]\n"
     ]
    }
   ],
   "source": [
    "diffs = []\n",
    "for i in range(len(maxes)):\n",
    "    diff = maxes[i] - mins[i]\n",
    "    diffs.append(diff)\n",
    "\n",
    "differences = np.array(diffs)\n",
    "print(diffs)"
   ]
  },
  {
   "cell_type": "code",
   "execution_count": 11,
   "metadata": {},
   "outputs": [],
   "source": [
    "rescaleTrain = []\n",
    "removal = np.array(mins)\n",
    "for entry in X_train:\n",
    "    scaled = entry/differences\n",
    "    rescaleTrain.append(scaled)\n",
    "    \n",
    "rescaleTest = []\n",
    "for entry in X_test:\n",
    "    scaled = entry/differences\n",
    "    rescaleTest.append(scaled)"
   ]
  },
  {
   "cell_type": "code",
   "execution_count": 28,
   "metadata": {},
   "outputs": [],
   "source": [
    "#rescaling the time free inputs\n",
    "Wmaxes = []\n",
    "Wmins = []\n",
    "for i in W_train[0]:\n",
    "    Wmins.append(i)\n",
    "    Wmaxes.append(i)\n",
    "\n",
    "\n",
    "size = len(W_train[0])\n",
    "\n",
    "\n",
    "for entry in W_train:\n",
    "    for i in range(size):\n",
    "        if entry[i] > maxes[i]:\n",
    "            maxes[i] = entry[i]\n",
    "        elif entry[i] < mins[i]:\n",
    "            mins[i] = entry[i]\n",
    "#print(Wmaxes)\n",
    "#print(Wmins)\n",
    "\n",
    "Wdiffs = []\n",
    "for i in range(len(Wmaxes)):\n",
    "    diff = Wmaxes[i] - Wmins[i]\n",
    "    diffs.append(diff)\n",
    "\n",
    "Wdifferences = np.array(diffs)\n",
    "#print(Wdiffs)\n",
    "\n",
    "WrescaleTrain = []\n",
    "removal = np.array(mins)\n",
    "for entry in X_train:\n",
    "    scaled = entry/differences\n",
    "    WrescaleTrain.append(scaled)\n",
    "    \n",
    "WrescaleTest = []\n",
    "for entry in X_test:\n",
    "    scaled = entry/differences\n",
    "    WrescaleTest.append(scaled)\n",
    "    \n",
    "Z_test = np.array(WrescaleTest)\n",
    "Z_train = np.array(WrescaleTrain)"
   ]
  },
  {
   "cell_type": "code",
   "execution_count": 29,
   "metadata": {},
   "outputs": [
    {
     "name": "stdout",
     "output_type": "stream",
     "text": [
      "[-0.03538795 -0.03234128 -0.03791345 -0.05296705 -0.08809277 -0.10719285\n",
      " -0.13750933 -0.13679007 -0.13175874 -0.13254221 -0.13087671 -0.07388697\n",
      " -0.06675215 -0.06819905 -0.04891199 -0.04221038 -0.03467008 -0.03064148\n",
      " -0.02534553 -0.02579109 -0.02708174 -0.03078365 -0.03386777 -0.04089883\n",
      " -0.04790936 -0.05033942 -0.05842697 -0.06176423 -0.05235634 -0.0433961\n",
      " -0.04497232 -0.04117041 -0.03801865 -0.03447352 -0.03410046 -0.03280338\n",
      " -0.02843931 -0.02685031 -0.0248166  -0.0268078  -0.02809833 -0.02992825\n",
      " -0.03522801 -0.03549901 -0.03913813 -0.04021526 -0.04048449 -0.04243575\n",
      " -0.04159072 -0.04729019 -0.0441861  -0.05187558 -0.05682774 -0.05734021\n",
      " -0.0565642  -0.04732254 -0.05627377 -0.05249988 -0.05391389 -0.04999696\n",
      " -0.0532699  -0.05287797 -0.06448671 -0.07104794 -0.06674799 -0.06362032\n",
      " -0.0599264  -0.07282554 -0.07139259 -0.07260762 -0.07651803 -0.07765016\n",
      " -0.08201898 -0.0808706  -0.06957582 -0.06994563 -0.06286435 -0.07032949\n",
      " -0.07827423 -0.07814825 -0.08349142 -0.07792977 -0.09530357 -0.09117341\n",
      " -0.08995969 -0.10181301 -0.09929197 -0.09966708 -0.11030941 -0.11181809\n",
      " -0.11740974 -0.1048741  -0.10036835 -0.11724938 -0.12235675 -0.10208069\n",
      " -0.09716454 -0.11457701 -0.12033408 -0.11611355 -0.11761957 -0.13629285\n",
      " -0.12501139 -0.13570638 -0.14159043 -0.12728522 -0.12017334 -0.10796255\n",
      " -0.130055   -0.1503078  -0.15231854 -0.15307495 -0.12193937 -0.14046313\n",
      " -0.13827271 -0.13474385 -0.14964944 -0.16816035 -0.15978185 -0.15230361\n",
      " -0.18923384 -0.19400989 -0.17012055 -0.18593741 -0.19804178 -0.19681289\n",
      " -0.20964836 -0.15567805 -0.12297948  0.02079395]\n"
     ]
    }
   ],
   "source": [
    "print(Z_train[5])"
   ]
  },
  {
   "cell_type": "code",
   "execution_count": 12,
   "metadata": {},
   "outputs": [],
   "source": [
    "X_test = np.array(rescaleTest)\n",
    "X_train = np.array(rescaleTrain)"
   ]
  },
  {
   "cell_type": "code",
   "execution_count": 13,
   "metadata": {},
   "outputs": [],
   "source": [
    "model1 = keras.Sequential([\n",
    "    keras.layers.Dense(130, activation=tf.nn.relu),\n",
    "    keras.layers.Dense(100, activation=tf.nn.relu),\n",
    "    keras.layers.Dense(80, activation=tf.nn.relu),\n",
    "    keras.layers.Dense(60, activation=tf.nn.relu),\n",
    "    keras.layers.Dense(40, activation=tf.nn.relu),\n",
    "    keras.layers.Dense(2, activation=tf.nn.relu),\n",
    "])\n"
   ]
  },
  {
   "cell_type": "code",
   "execution_count": 14,
   "metadata": {},
   "outputs": [
    {
     "name": "stdout",
     "output_type": "stream",
     "text": [
      "WARNING:tensorflow:From C:\\Users\\drape\\Anaconda3\\envs\\ML Tests\\lib\\site-packages\\tensorflow\\python\\ops\\resource_variable_ops.py:435: colocate_with (from tensorflow.python.framework.ops) is deprecated and will be removed in a future version.\n",
      "Instructions for updating:\n",
      "Colocations handled automatically by placer.\n"
     ]
    }
   ],
   "source": [
    "model1.compile(optimizer = 'adam',\n",
    "              loss = 'binary_crossentropy',\n",
    "              metrics = ['accuracy'])"
   ]
  },
  {
   "cell_type": "code",
   "execution_count": null,
   "metadata": {},
   "outputs": [],
   "source": [
    "X_train[0][0]"
   ]
  },
  {
   "cell_type": "code",
   "execution_count": 15,
   "metadata": {},
   "outputs": [
    {
     "name": "stdout",
     "output_type": "stream",
     "text": [
      "WARNING:tensorflow:From C:\\Users\\drape\\Anaconda3\\envs\\ML Tests\\lib\\site-packages\\tensorflow\\python\\ops\\math_ops.py:3066: to_int32 (from tensorflow.python.ops.math_ops) is deprecated and will be removed in a future version.\n",
      "Instructions for updating:\n",
      "Use tf.cast instead.\n",
      "Epoch 1/25\n",
      "13007/13007 [==============================] - 3s 233us/sample - loss: 8.1538 - acc: 0.4941\n",
      "Epoch 2/25\n",
      "13007/13007 [==============================] - 1s 112us/sample - loss: 8.1538 - acc: 0.4941\n",
      "Epoch 3/25\n",
      "13007/13007 [==============================] - 1s 111us/sample - loss: 8.1538 - acc: 0.4941\n",
      "Epoch 4/25\n",
      "13007/13007 [==============================] - 1s 112us/sample - loss: 8.1538 - acc: 0.4941\n",
      "Epoch 5/25\n",
      "13007/13007 [==============================] - 1s 110us/sample - loss: 8.1538 - acc: 0.4941\n",
      "Epoch 6/25\n",
      "13007/13007 [==============================] - 1s 110us/sample - loss: 8.1538 - acc: 0.4941\n",
      "Epoch 7/25\n",
      "13007/13007 [==============================] - 1s 112us/sample - loss: 8.1538 - acc: 0.4941\n",
      "Epoch 8/25\n",
      "13007/13007 [==============================] - 1s 113us/sample - loss: 8.1538 - acc: 0.4941\n",
      "Epoch 9/25\n",
      "13007/13007 [==============================] - 1s 113us/sample - loss: 8.1538 - acc: 0.4941\n",
      "Epoch 10/25\n",
      "13007/13007 [==============================] - 1s 111us/sample - loss: 8.1538 - acc: 0.4941\n",
      "Epoch 11/25\n",
      "13007/13007 [==============================] - 1s 115us/sample - loss: 8.1538 - acc: 0.4941\n",
      "Epoch 12/25\n",
      "13007/13007 [==============================] - 1s 115us/sample - loss: 8.1538 - acc: 0.4941\n",
      "Epoch 13/25\n",
      "13007/13007 [==============================] - 1s 110us/sample - loss: 8.1538 - acc: 0.4941\n",
      "Epoch 14/25\n",
      "13007/13007 [==============================] - 1s 111us/sample - loss: 8.1538 - acc: 0.4941\n",
      "Epoch 15/25\n",
      "13007/13007 [==============================] - 1s 111us/sample - loss: 8.1538 - acc: 0.4941\n",
      "Epoch 16/25\n",
      "13007/13007 [==============================] - 1s 114us/sample - loss: 8.1538 - acc: 0.4941\n",
      "Epoch 17/25\n",
      "13007/13007 [==============================] - 1s 111us/sample - loss: 8.1538 - acc: 0.4941\n",
      "Epoch 18/25\n",
      "13007/13007 [==============================] - 1s 111us/sample - loss: 8.1538 - acc: 0.4941\n",
      "Epoch 19/25\n",
      "13007/13007 [==============================] - 1s 110us/sample - loss: 8.1538 - acc: 0.4941\n",
      "Epoch 20/25\n",
      "13007/13007 [==============================] - 1s 110us/sample - loss: 8.1538 - acc: 0.4941\n",
      "Epoch 21/25\n",
      "13007/13007 [==============================] - 1s 111us/sample - loss: 8.1538 - acc: 0.4941\n",
      "Epoch 22/25\n",
      "13007/13007 [==============================] - 1s 110us/sample - loss: 8.1538 - acc: 0.4941\n",
      "Epoch 23/25\n",
      "13007/13007 [==============================] - 1s 114us/sample - loss: 8.1538 - acc: 0.4941\n",
      "Epoch 24/25\n",
      "13007/13007 [==============================] - 1s 111us/sample - loss: 8.1538 - acc: 0.4941\n",
      "Epoch 25/25\n",
      "13007/13007 [==============================] - 1s 111us/sample - loss: 8.1538 - acc: 0.4941\n"
     ]
    },
    {
     "data": {
      "text/plain": [
       "<tensorflow.python.keras.callbacks.History at 0x261c25bb828>"
      ]
     },
     "execution_count": 15,
     "metadata": {},
     "output_type": "execute_result"
    }
   ],
   "source": [
    "model1.fit(X_train, y_train, epochs = 25)"
   ]
  },
  {
   "cell_type": "code",
   "execution_count": 17,
   "metadata": {},
   "outputs": [],
   "source": [
    "model2 = keras.Sequential([\n",
    "    keras.layers.Dense(130, activation=tf.nn.relu),\n",
    "    keras.layers.Dense(50, activation=tf.nn.relu),\n",
    "    keras.layers.Dense(50, activation=tf.nn.relu),\n",
    "    keras.layers.Dense(50, activation=tf.nn.relu),\n",
    "    keras.layers.Dense(50, activation=tf.nn.relu),\n",
    "    keras.layers.Dense(50, activation=tf.nn.relu),\n",
    "    keras.layers.Dense(50, activation=tf.nn.relu),\n",
    "    keras.layers.Dense(50, activation=tf.nn.relu),\n",
    "    keras.layers.Dense(50, activation=tf.nn.relu),\n",
    "    \n",
    "    keras.layers.Dense(2, activation = tf.nn.relu)\n",
    "])"
   ]
  },
  {
   "cell_type": "code",
   "execution_count": 20,
   "metadata": {},
   "outputs": [],
   "source": [
    "model2.compile(optimizer = 'adam',\n",
    "              loss = 'categorical_hinge',\n",
    "              metrics = ['accuracy'])"
   ]
  },
  {
   "cell_type": "code",
   "execution_count": 21,
   "metadata": {},
   "outputs": [
    {
     "name": "stdout",
     "output_type": "stream",
     "text": [
      "WARNING:tensorflow:From C:\\Users\\drape\\Anaconda3\\envs\\ML Tests\\lib\\site-packages\\tensorflow\\python\\ops\\math_grad.py:102: div (from tensorflow.python.ops.math_ops) is deprecated and will be removed in a future version.\n",
      "Instructions for updating:\n",
      "Deprecated in favor of operator or tf.math.divide.\n",
      "Epoch 1/5\n",
      "13007/13007 [==============================] - 3s 203us/sample - loss: 1.0000 - acc: 1.0000\n",
      "Epoch 2/5\n",
      "13007/13007 [==============================] - 2s 142us/sample - loss: 1.0000 - acc: 1.0000\n",
      "Epoch 3/5\n",
      "13007/13007 [==============================] - 2s 140us/sample - loss: 1.0000 - acc: 1.0000\n",
      "Epoch 4/5\n",
      "13007/13007 [==============================] - 2s 141us/sample - loss: 1.0000 - acc: 1.0000\n",
      "Epoch 5/5\n",
      "13007/13007 [==============================] - 2s 140us/sample - loss: 1.0000 - acc: 1.0000\n"
     ]
    },
    {
     "data": {
      "text/plain": [
       "<tensorflow.python.keras.callbacks.History at 0x26285c2b748>"
      ]
     },
     "execution_count": 21,
     "metadata": {},
     "output_type": "execute_result"
    }
   ],
   "source": [
    "model2.fit(X_train, y_train, epochs = 5)"
   ]
  },
  {
   "cell_type": "code",
   "execution_count": 22,
   "metadata": {},
   "outputs": [],
   "source": [
    "model3 = keras.Sequential([\n",
    "    keras.layers.Dense(130, activation=tf.nn.relu),\n",
    "    keras.layers.Dense(50, activation=tf.nn.relu),\n",
    "    \n",
    "    \n",
    "    keras.layers.Dense(2, activation = tf.nn.relu)\n",
    "])\n",
    "model3.compile(optimizer = 'adam',\n",
    "              loss = 'categorical_hinge',\n",
    "              metrics = ['accuracy'])"
   ]
  },
  {
   "cell_type": "code",
   "execution_count": 23,
   "metadata": {},
   "outputs": [
    {
     "name": "stdout",
     "output_type": "stream",
     "text": [
      "Epoch 1/5\n",
      "13007/13007 [==============================] - 1s 92us/sample - loss: 1.0003 - acc: 1.0000\n",
      "Epoch 2/5\n",
      "13007/13007 [==============================] - 1s 78us/sample - loss: 1.0000 - acc: 1.0000\n",
      "Epoch 3/5\n",
      "13007/13007 [==============================] - 1s 79us/sample - loss: 1.0000 - acc: 1.0000\n",
      "Epoch 4/5\n",
      "13007/13007 [==============================] - 1s 78us/sample - loss: 1.0000 - acc: 1.0000\n",
      "Epoch 5/5\n",
      "13007/13007 [==============================] - 1s 80us/sample - loss: 1.0000 - acc: 1.0000\n"
     ]
    },
    {
     "data": {
      "text/plain": [
       "<tensorflow.python.keras.callbacks.History at 0x26287c496a0>"
      ]
     },
     "execution_count": 23,
     "metadata": {},
     "output_type": "execute_result"
    }
   ],
   "source": [
    "model3.fit(X_train, y_train, epochs = 5)"
   ]
  },
  {
   "cell_type": "code",
   "execution_count": 25,
   "metadata": {},
   "outputs": [
    {
     "name": "stdout",
     "output_type": "stream",
     "text": [
      "6407/6407 [==============================] - 0s 51us/sample - loss: 1.0000 - acc: 1.0000\n",
      "Testing accuracy 1.0\n"
     ]
    }
   ],
   "source": [
    "test_loss, test_acc = model3.evaluate(X_test, y_test)\n",
    "print(\"Testing accuracy\", test_acc)"
   ]
  },
  {
   "cell_type": "code",
   "execution_count": 34,
   "metadata": {},
   "outputs": [],
   "source": [
    "model4 = keras.Sequential([\n",
    "    keras.layers.Dense(129, activation=tf.nn.relu),\n",
    "    keras.layers.Dense(50, activation=tf.nn.relu),\n",
    "    keras.layers.Dense(50, activation=tf.nn.relu),\n",
    "    keras.layers.Dense(50, activation=tf.nn.relu),\n",
    "    keras.layers.Dense(50, activation=tf.nn.relu),\n",
    "    keras.layers.Dense(50, activation=tf.nn.relu),\n",
    "    keras.layers.Dense(50, activation=tf.nn.relu),\n",
    "    keras.layers.Dense(50, activation=tf.nn.relu),\n",
    "    \n",
    "    \n",
    "    keras.layers.Dense(2, activation = tf.nn.relu)\n",
    "])\n",
    "model4.compile(optimizer = 'adam',\n",
    "              loss = 'categorical_hinge',\n",
    "              metrics = ['accuracy'])"
   ]
  },
  {
   "cell_type": "code",
   "execution_count": 35,
   "metadata": {},
   "outputs": [
    {
     "name": "stdout",
     "output_type": "stream",
     "text": [
      "Epoch 1/25\n",
      "13007/13007 [==============================] - 2s 168us/sample - loss: 1.0001 - acc: 0.9114\n",
      "Epoch 2/25\n",
      "13007/13007 [==============================] - 2s 135us/sample - loss: 1.0000 - acc: 1.0000\n",
      "Epoch 3/25\n",
      "13007/13007 [==============================] - 2s 135us/sample - loss: 1.0000 - acc: 1.0000\n",
      "Epoch 4/25\n",
      "13007/13007 [==============================] - 2s 139us/sample - loss: 1.0000 - acc: 1.0000\n",
      "Epoch 5/25\n",
      "13007/13007 [==============================] - 2s 135us/sample - loss: 1.0000 - acc: 1.0000\n",
      "Epoch 6/25\n",
      "13007/13007 [==============================] - 2s 135us/sample - loss: 1.0000 - acc: 1.0000\n",
      "Epoch 7/25\n",
      "13007/13007 [==============================] - 2s 139us/sample - loss: 1.0000 - acc: 1.0000\n",
      "Epoch 8/25\n",
      "13007/13007 [==============================] - 2s 135us/sample - loss: 1.0000 - acc: 1.0000\n",
      "Epoch 9/25\n",
      "13007/13007 [==============================] - 2s 137us/sample - loss: 1.0000 - acc: 1.0000\n",
      "Epoch 10/25\n",
      "13007/13007 [==============================] - 2s 138us/sample - loss: 1.0000 - acc: 1.0000\n",
      "Epoch 11/25\n",
      "13007/13007 [==============================] - 2s 137us/sample - loss: 1.0000 - acc: 1.0000\n",
      "Epoch 12/25\n",
      "13007/13007 [==============================] - 2s 139us/sample - loss: 1.0000 - acc: 1.0000\n",
      "Epoch 13/25\n",
      "13007/13007 [==============================] - 2s 142us/sample - loss: 1.0000 - acc: 1.0000\n",
      "Epoch 14/25\n",
      "13007/13007 [==============================] - 2s 135us/sample - loss: 1.0000 - acc: 1.0000\n",
      "Epoch 15/25\n",
      "13007/13007 [==============================] - 2s 136us/sample - loss: 1.0000 - acc: 1.0000\n",
      "Epoch 16/25\n",
      "13007/13007 [==============================] - 2s 136us/sample - loss: 1.0000 - acc: 1.0000\n",
      "Epoch 17/25\n",
      "13007/13007 [==============================] - 2s 135us/sample - loss: 1.0000 - acc: 1.0000\n",
      "Epoch 18/25\n",
      "13007/13007 [==============================] - 2s 139us/sample - loss: 1.0000 - acc: 1.0000\n",
      "Epoch 19/25\n",
      "13007/13007 [==============================] - 2s 139us/sample - loss: 1.0000 - acc: 1.0000\n",
      "Epoch 20/25\n",
      "13007/13007 [==============================] - 2s 136us/sample - loss: 1.0000 - acc: 1.0000\n",
      "Epoch 21/25\n",
      "13007/13007 [==============================] - 2s 136us/sample - loss: 1.0000 - acc: 1.0000\n",
      "Epoch 22/25\n",
      "13007/13007 [==============================] - 2s 140us/sample - loss: 1.0000 - acc: 1.0000\n",
      "Epoch 23/25\n",
      "13007/13007 [==============================] - 2s 137us/sample - loss: 1.0000 - acc: 1.0000\n",
      "Epoch 24/25\n",
      "13007/13007 [==============================] - 2s 137us/sample - loss: 1.0000 - acc: 1.0000\n",
      "Epoch 25/25\n",
      "13007/13007 [==============================] - 2s 136us/sample - loss: 1.0000 - acc: 1.0000\n"
     ]
    },
    {
     "data": {
      "text/plain": [
       "<tensorflow.python.keras.callbacks.History at 0x26289d29f98>"
      ]
     },
     "execution_count": 35,
     "metadata": {},
     "output_type": "execute_result"
    }
   ],
   "source": [
    "model4.fit(Z_train, y_train, epochs = 25)"
   ]
  },
  {
   "cell_type": "code",
   "execution_count": 36,
   "metadata": {},
   "outputs": [
    {
     "name": "stdout",
     "output_type": "stream",
     "text": [
      "6407/6407 [==============================] - 0s 68us/sample - loss: 1.0000 - acc: 1.0000\n",
      "Testing accuracy 1.0\n"
     ]
    }
   ],
   "source": [
    "test_loss, test_acc = model4.evaluate(Z_test, y_test)\n",
    "print(\"Testing accuracy\", test_acc)"
   ]
  }
 ],
 "metadata": {
  "kernelspec": {
   "display_name": "Python 3",
   "language": "python",
   "name": "python3"
  },
  "language_info": {
   "codemirror_mode": {
    "name": "ipython",
    "version": 3
   },
   "file_extension": ".py",
   "mimetype": "text/x-python",
   "name": "python",
   "nbconvert_exporter": "python",
   "pygments_lexer": "ipython3",
   "version": "3.6.8"
  }
 },
 "nbformat": 4,
 "nbformat_minor": 2
}
